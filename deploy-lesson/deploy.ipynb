{
 "cells": [
  {
   "attachments": {},
   "cell_type": "markdown",
   "metadata": {},
   "source": [
    "*To execute this notebook, choose the `sandbox-tutorial` kernel in the dropdown above*"
   ]
  },
  {
   "attachments": {},
   "cell_type": "markdown",
   "metadata": {},
   "source": [
    "### Defining an event-triggered flow\n",
    "\n",
    "Let's use this simple flow to test event triggering. Note the `@trigger` decorator which is used to start the workflow automatically when an external event occurs."
   ]
  },
  {
   "attachments": {},
   "cell_type": "markdown",
   "metadata": {},
   "source": [
    "```python\n",
    "from metaflow import step, FlowSpec, trigger, current, Parameter\n",
    "\n",
    "@trigger(event={'name': \"my_event\"})\n",
    "class EventTriggeredFlow(FlowSpec):\n",
    "\n",
    "    greeting = Parameter('greeting', default='World')\n",
    "\n",
    "    @step\n",
    "    def start(self):\n",
    "        print(\"Hello %s 👋\" % self.greeting)\n",
    "        self.next(self.end)\n",
    "\n",
    "    @step\n",
    "    def end(self):\n",
    "        print(\"Done! 🏁\")\n",
    "```"
   ]
  },
  {
   "attachments": {},
   "cell_type": "markdown",
   "metadata": {},
   "source": [
    "### Deploy the flow to Argo Workflows\n",
    "\n",
    "We have saved the above code to a file, `event_flow.py`, so you can deploy it to a production orchestrator, Argo Workflows, with a single command.\n",
    "\n",
    "Execute the cell below or run the command on the terminal to deploy the flow."
   ]
  },
  {
   "cell_type": "code",
   "execution_count": null,
   "metadata": {},
   "outputs": [],
   "source": [
    "import os\n",
    "os.chdir('/home/workspace/workspaces/tutorials/')\n",
    "! python deployment/event_flow.py argo-workflows create"
   ]
  },
  {
   "attachments": {},
   "cell_type": "markdown",
   "metadata": {},
   "source": [
    "### Create an event to trigger a run\n",
    "\n",
    "Now that the flow has been deployed to Argo Workflows (that was easy!), we can create an event (or many) to trigger its execution programmatically. Run the next cell to create an event: "
   ]
  },
  {
   "cell_type": "code",
   "execution_count": null,
   "metadata": {},
   "outputs": [],
   "source": [
    "from metaflow.integrations import ArgoEvent\n",
    "from deployment.show_links import show_ui_links\n",
    "ArgoEvent(name=\"my_event\")\\\n",
    "    .publish(force=True, \n",
    "             payload={'greeting': 'Kitty[🐈]!'})\n",
    "show_ui_links()"
   ]
  },
  {
   "attachments": {},
   "cell_type": "markdown",
   "metadata": {},
   "source": [
    "Try changing the value of `greeting` in the event above. Run the cell again and see the output of the `start` task in the Metaflow UI for the effect 🤩\n",
    "\n",
    "This example only scratches the surface of event triggering. To learn more, see\n",
    " - [Event triggering announcement blog post](#)\n",
    " - [Event triggering documentation](#)\n",
    "\n",
    " All the functionality documented above works in this sandbox. Feel free to conduct your wildest event triggering experiments in this playground! ⚗️"
   ]
  }
 ],
 "metadata": {
  "kernelspec": {
   "display_name": "sandbox-tutorial",
   "language": "python",
   "name": "python3"
  },
  "language_info": {
   "codemirror_mode": {
    "name": "ipython",
    "version": 3
   },
   "file_extension": ".py",
   "mimetype": "text/x-python",
   "name": "python",
   "nbconvert_exporter": "python",
   "pygments_lexer": "ipython3",
   "version": "3.9.10"
  },
  "orig_nbformat": 4
 },
 "nbformat": 4,
 "nbformat_minor": 2
}
